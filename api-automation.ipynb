{
 "cells": [
  {
   "cell_type": "markdown",
   "id": "b0ac8f8a-dc2b-415e-96d8-370770c38b02",
   "metadata": {
    "jp-MarkdownHeadingCollapsed": true
   },
   "source": [
    "### This notebook is all about hiting an API with given field values to be read from an excel/csv file"
   ]
  },
  {
   "cell_type": "markdown",
   "id": "0faef697-672a-48bc-84f3-7557034f4190",
   "metadata": {},
   "source": [
    "## Importing Libraries"
   ]
  },
  {
   "cell_type": "code",
   "execution_count": 1,
   "id": "6ee33915-d097-4c50-9c21-e02b99b732e5",
   "metadata": {},
   "outputs": [],
   "source": [
    "import pandas as pd\n",
    "import requests\n",
    "import logging as log"
   ]
  },
  {
   "cell_type": "markdown",
   "id": "6bdbfbb0-81a3-466b-b6a7-344fdb888001",
   "metadata": {},
   "source": [
    "## Method to read excel file"
   ]
  },
  {
   "cell_type": "code",
   "execution_count": 2,
   "id": "4149cdf9-227f-4c4d-bd28-955c499a780c",
   "metadata": {},
   "outputs": [],
   "source": [
    "def read_excel(file_path, sheet_name=0):\n",
    "    \"\"\"Reads an Excel file and returns a DataFrame.\"\"\"\n",
    "    return pd.read_excel(file_path, sheet_name=sheet_name)"
   ]
  },
  {
   "cell_type": "markdown",
   "id": "305c714f-441b-4abe-a806-8c7ceb2a9ebb",
   "metadata": {},
   "source": [
    "## Method to call API"
   ]
  },
  {
   "cell_type": "code",
   "execution_count": 36,
   "id": "7d23fc63-4f5b-456a-ad5c-9fb87a4e517c",
   "metadata": {},
   "outputs": [],
   "source": [
    "def call_api(url, payload, headers, method):\n",
    "    print(\"headers:\" + str(headers))\n",
    "    print(\"url:\" + url)\n",
    "    print(\"payload:\" + str(payload))\n",
    "    print(\"method:\" + method)\n",
    "    if method == \"POST\" :\n",
    "        response = requests.post(url, json=payload, headers=headers)\n",
    "    elif method == \"GET\" :\n",
    "        response = requests.get(url, json=payload, headers=headers)\n",
    "    elif method == \"PATCH\" :\n",
    "        response = requests.patch(url, json=payload, headers=headers)\n",
    "    elif method == \"PUT\" :\n",
    "        response = requests.put(url, json=payload, headers=headers)\n",
    "    return response.json()"
   ]
  },
  {
   "cell_type": "markdown",
   "id": "701d5de1-5e56-46d3-9dda-809038e82c18",
   "metadata": {},
   "source": [
    "# Process Excel File read values create payload and call API"
   ]
  },
  {
   "cell_type": "code",
   "execution_count": 41,
   "id": "fb34826d-7115-4306-bfa3-97b9d0f4b736",
   "metadata": {},
   "outputs": [],
   "source": [
    "def process_excel_and_call_api(file_path, output_file):\n",
    "    \"\"\"Reads an Excel file, extracts structured data, makes API calls, and saves responses.\"\"\"\n",
    "    df = read_excel(file_path)\n",
    "    df[\"response\"] = \"\"  # Add a new column for storing responses\n",
    "    \n",
    "    for index, row in df.iterrows():\n",
    "        \n",
    "        api_url = f\"<your url in case of dependency of excel data in path params>\"\n",
    "        \n",
    "        payload = {\n",
    "            # build the payload here\n",
    "        }\n",
    "        # set your headers here\n",
    "        headers = {\n",
    "            \"Content-Type\": \"application/json\" \n",
    "        }\n",
    "        method = \"GET\" # your method\n",
    "        response = call_api(api_url, payload, headers, method)\n",
    "        df.at[index, \"response\"] = str(response)  # Store the response in the new column\n",
    "        print(f\"Response: {response}\")\n",
    "    \n",
    "    \n",
    "    df.to_excel(output_file, index=False)  # Save the updated DataFrame to a new Excel file\n",
    "    print(f\"Results saved to {output_file}\")\n",
    "    \n",
    "    return df"
   ]
  },
  {
   "cell_type": "markdown",
   "id": "1cdddea8-99af-4617-af3d-6265969ca459",
   "metadata": {},
   "source": [
    "## Main Method"
   ]
  },
  {
   "cell_type": "code",
   "execution_count": null,
   "id": "9ad71d9a-186c-4967-94c4-30746f2451f5",
   "metadata": {},
   "outputs": [],
   "source": [
    "if __name__ == \"__main__\":\n",
    "    \n",
    "    input_file = \"data.xlsx\"\n",
    "    output_file = \"result.xlsx\"\n",
    "    process_excel_and_call_api(input_file, output_file)"
   ]
  }
 ],
 "metadata": {
  "kernelspec": {
   "display_name": "Python 3 (ipykernel)",
   "language": "python",
   "name": "python3"
  },
  "language_info": {
   "codemirror_mode": {
    "name": "ipython",
    "version": 3
   },
   "file_extension": ".py",
   "mimetype": "text/x-python",
   "name": "python",
   "nbconvert_exporter": "python",
   "pygments_lexer": "ipython3",
   "version": "3.13.2"
  }
 },
 "nbformat": 4,
 "nbformat_minor": 5
}
