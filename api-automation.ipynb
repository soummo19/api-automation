{
 "cells": [
  {
   "cell_type": "markdown",
   "id": "b0ac8f8a-dc2b-415e-96d8-370770c38b02",
   "metadata": {},
   "source": [
    "This notebook is all about hiting an API with given field values to be read from an excel/csv file"
   ]
  },
  {
   "cell_type": "markdown",
   "id": "0faef697-672a-48bc-84f3-7557034f4190",
   "metadata": {},
   "source": [
    "Importing Libraries"
   ]
  },
  {
   "cell_type": "code",
   "execution_count": 1,
   "id": "6ee33915-d097-4c50-9c21-e02b99b732e5",
   "metadata": {},
   "outputs": [],
   "source": [
    "import pandas as pd\n",
    "import requests\n",
    "import logging as log"
   ]
  },
  {
   "cell_type": "markdown",
   "id": "6bdbfbb0-81a3-466b-b6a7-344fdb888001",
   "metadata": {},
   "source": [
    "Method to read excel file"
   ]
  },
  {
   "cell_type": "code",
   "execution_count": 2,
   "id": "4149cdf9-227f-4c4d-bd28-955c499a780c",
   "metadata": {},
   "outputs": [],
   "source": [
    "def read_excel(file_path, sheet_name=0):\n",
    "    \"\"\"Reads an Excel file and returns a DataFrame.\"\"\"\n",
    "    return pd.read_excel(file_path, sheet_name=sheet_name)"
   ]
  },
  {
   "cell_type": "markdown",
   "id": "305c714f-441b-4abe-a806-8c7ceb2a9ebb",
   "metadata": {},
   "source": [
    "Method to call API"
   ]
  },
  {
   "cell_type": "code",
   "execution_count": 36,
   "id": "7d23fc63-4f5b-456a-ad5c-9fb87a4e517c",
   "metadata": {},
   "outputs": [],
   "source": [
    "def call_api(url, payload, headers, method):\n",
    "    print(\"headers:\" + str(headers))\n",
    "    print(\"url:\" + url)\n",
    "    print(\"payload:\" + str(payload))\n",
    "    print(\"method:\" + method)\n",
    "    if method == \"POST\" :\n",
    "        response = requests.post(url, json=payload, headers=headers)\n",
    "    elif method == \"GET\" :\n",
    "        response = requests.get(url, json=payload, headers=headers)\n",
    "    elif method == \"PATCH\" :\n",
    "        response = requests.patch(url, json=payload, headers=headers)\n",
    "    elif method == \"PUT\" :\n",
    "        response = requests.put(url, json=payload, headers=headers)\n",
    "    return response.json()"
   ]
  },
  {
   "cell_type": "code",
   "execution_count": 38,
   "id": "0d4b748d-2107-4ab4-9cb3-2ec4ceb3a7e1",
   "metadata": {},
   "outputs": [
    {
     "name": "stdout",
     "output_type": "stream",
     "text": [
      "headers:{'Content-Type': 'application/json', 'Authorization': ''}\n",
      "url:https://reqres.in/api/users?page=2\n",
      "payload:None\n",
      "method:GET\n"
     ]
    },
    {
     "data": {
      "text/plain": [
       "{'page': 2,\n",
       " 'per_page': 6,\n",
       " 'total': 12,\n",
       " 'total_pages': 2,\n",
       " 'data': [{'id': 7,\n",
       "   'email': 'michael.lawson@reqres.in',\n",
       "   'first_name': 'Michael',\n",
       "   'last_name': 'Lawson',\n",
       "   'avatar': 'https://reqres.in/img/faces/7-image.jpg'},\n",
       "  {'id': 8,\n",
       "   'email': 'lindsay.ferguson@reqres.in',\n",
       "   'first_name': 'Lindsay',\n",
       "   'last_name': 'Ferguson',\n",
       "   'avatar': 'https://reqres.in/img/faces/8-image.jpg'},\n",
       "  {'id': 9,\n",
       "   'email': 'tobias.funke@reqres.in',\n",
       "   'first_name': 'Tobias',\n",
       "   'last_name': 'Funke',\n",
       "   'avatar': 'https://reqres.in/img/faces/9-image.jpg'},\n",
       "  {'id': 10,\n",
       "   'email': 'byron.fields@reqres.in',\n",
       "   'first_name': 'Byron',\n",
       "   'last_name': 'Fields',\n",
       "   'avatar': 'https://reqres.in/img/faces/10-image.jpg'},\n",
       "  {'id': 11,\n",
       "   'email': 'george.edwards@reqres.in',\n",
       "   'first_name': 'George',\n",
       "   'last_name': 'Edwards',\n",
       "   'avatar': 'https://reqres.in/img/faces/11-image.jpg'},\n",
       "  {'id': 12,\n",
       "   'email': 'rachel.howell@reqres.in',\n",
       "   'first_name': 'Rachel',\n",
       "   'last_name': 'Howell',\n",
       "   'avatar': 'https://reqres.in/img/faces/12-image.jpg'}],\n",
       " 'support': {'url': 'https://contentcaddy.io?utm_source=reqres&utm_medium=json&utm_campaign=referral',\n",
       "  'text': 'Tired of writing endless social media content? Let Content Caddy generate it for you.'}}"
      ]
     },
     "execution_count": 38,
     "metadata": {},
     "output_type": "execute_result"
    }
   ],
   "source": [
    "url = \"https://reqres.in/api/users?page=2\"\n",
    "method = \"GET\"\n",
    "headers = {\n",
    "    \"Content-Type\": \"application/json\",\n",
    "    \"Authorization\": \"\"\n",
    "}\n",
    "\n",
    "call_api(url, None, headers, method)"
   ]
  },
  {
   "cell_type": "code",
   "execution_count": null,
   "id": "479b17c6-5211-4144-b61f-695dbe2b8c0c",
   "metadata": {},
   "outputs": [],
   "source": []
  },
  {
   "cell_type": "code",
   "execution_count": null,
   "id": "4aa1b052-17f4-4b8d-b3ea-2a40fa08250b",
   "metadata": {},
   "outputs": [],
   "source": []
  }
 ],
 "metadata": {
  "kernelspec": {
   "display_name": "Python 3 (ipykernel)",
   "language": "python",
   "name": "python3"
  },
  "language_info": {
   "codemirror_mode": {
    "name": "ipython",
    "version": 3
   },
   "file_extension": ".py",
   "mimetype": "text/x-python",
   "name": "python",
   "nbconvert_exporter": "python",
   "pygments_lexer": "ipython3",
   "version": "3.13.2"
  }
 },
 "nbformat": 4,
 "nbformat_minor": 5
}
